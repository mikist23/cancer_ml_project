{
 "cells": [
  {
   "cell_type": "code",
   "execution_count": 2,
   "metadata": {},
   "outputs": [],
   "source": [
    "import pandas as pd\n",
    "from sklearn.preprocessing import StandardScaler\n",
    "from sklearn.model_selection import train_test_split\n",
    "from sklearn.linear_model import LogisticRegression\n",
    "from sklearn.metrics import classification_report, accuracy_score\n",
    "import pickle \n"
   ]
  },
  {
   "cell_type": "code",
   "execution_count": 3,
   "metadata": {},
   "outputs": [],
   "source": [
    "\n",
    "def get_clean_data():\n",
    "    data = pd.read_csv('data.csv')\n",
    "\n",
    "    data = data.drop(['Unnamed: 32', 'id'], axis = 1)\n",
    "    data['diagnosis'] = data['diagnosis'].map({'M':1,\"B\":0})\n",
    "\n",
    "\n",
    "\n",
    "    return data\n",
    "\n",
    "    "
   ]
  },
  {
   "cell_type": "code",
   "execution_count": 4,
   "metadata": {},
   "outputs": [],
   "source": [
    "def create_model(data):\n",
    "    X = data.drop(columns='diagnosis', axis = 1)\n",
    "    y = data.diagnosis\n",
    "\n",
    "    scaler = StandardScaler()\n",
    "    X = scaler.fit_transform(X)\n",
    "    \n",
    "    # split the data\n",
    "    X_train,X_test,y_train,y_test = train_test_split(X,y,test_size=0.2, random_state=2)\n",
    "    \n",
    "    # Model selection\n",
    "    model = LogisticRegression()\n",
    "    model.fit(X_train,y_train)\n",
    "\n",
    "    # test model\n",
    "    y_pred = model.predict(X_test)\n",
    "    print(\"Accuracy Score: \", accuracy_score(y_test,y_pred))\n",
    "    print(\"Classification report: \\n \", classification_report(y_test,y_pred))\n",
    "    \n",
    "    return model, scaler\n",
    "\n",
    "    "
   ]
  },
  {
   "cell_type": "code",
   "execution_count": 5,
   "metadata": {},
   "outputs": [],
   "source": [
    "def main():\n",
    "#    clean data\n",
    "    data = get_clean_data()\n",
    "    # print(data.info())\n",
    "    \n",
    "    # model\n",
    "    model,scaler = create_model(data)\n",
    "    \n",
    "    # exporting the model\n",
    "    with open('model.pkl','wb') as f:\n",
    "        pickle.dump(model, f)\n",
    "\n",
    "    # exporting the scaller\n",
    "    with open('scaler.pkl','wb') as f:\n",
    "        pickle.dump(scaler,f)\n",
    "    \n",
    "    \n"
   ]
  },
  {
   "cell_type": "code",
   "execution_count": 6,
   "metadata": {},
   "outputs": [
    {
     "name": "stdout",
     "output_type": "stream",
     "text": [
      "Accuracy Score:  0.9736842105263158\n",
      "Classification report: \n",
      "                precision    recall  f1-score   support\n",
      "\n",
      "           0       0.99      0.97      0.98        69\n",
      "           1       0.96      0.98      0.97        45\n",
      "\n",
      "    accuracy                           0.97       114\n",
      "   macro avg       0.97      0.97      0.97       114\n",
      "weighted avg       0.97      0.97      0.97       114\n",
      "\n"
     ]
    }
   ],
   "source": [
    "if __name__ == '__main__':\n",
    "    main()"
   ]
  }
 ],
 "metadata": {
  "kernelspec": {
   "display_name": "Python 3",
   "language": "python",
   "name": "python3"
  },
  "language_info": {
   "codemirror_mode": {
    "name": "ipython",
    "version": 3
   },
   "file_extension": ".py",
   "mimetype": "text/x-python",
   "name": "python",
   "nbconvert_exporter": "python",
   "pygments_lexer": "ipython3",
   "version": "3.12.2"
  }
 },
 "nbformat": 4,
 "nbformat_minor": 2
}
